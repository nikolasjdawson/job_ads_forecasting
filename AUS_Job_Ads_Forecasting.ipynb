{
  "nbformat": 4,
  "nbformat_minor": 0,
  "metadata": {
    "colab": {
      "name": "AUS Job Ads Forecasting.ipynb",
      "provenance": [],
      "collapsed_sections": [],
      "include_colab_link": true
    },
    "kernelspec": {
      "name": "python3",
      "display_name": "Python 3"
    },
    "accelerator": "GPU"
  },
  "cells": [
    {
      "cell_type": "markdown",
      "metadata": {
        "id": "view-in-github",
        "colab_type": "text"
      },
      "source": [
        "<a href=\"https://colab.research.google.com/github/nikolasjdawson/job_ads_forecasting/blob/master/AUS_Job_Ads_Forecasting.ipynb\" target=\"_parent\"><img src=\"https://colab.research.google.com/assets/colab-badge.svg\" alt=\"Open In Colab\"/></a>"
      ]
    },
    {
      "cell_type": "code",
      "metadata": {
        "id": "GNkzTFfynsmV",
        "colab_type": "code",
        "outputId": "d2c22f6e-00a4-451d-f283-1fd124d7f53c",
        "colab": {
          "base_uri": "https://localhost:8080/",
          "height": 564
        }
      },
      "source": [
        "!pip install tensorflow==2.0.0b1"
      ],
      "execution_count": 1,
      "outputs": [
        {
          "output_type": "stream",
          "text": [
            "Collecting tensorflow==2.0.0b1\n",
            "\u001b[?25l  Downloading https://files.pythonhosted.org/packages/29/6c/2c9a5c4d095c63c2fb37d20def0e4f92685f7aee9243d6aae25862694fd1/tensorflow-2.0.0b1-cp36-cp36m-manylinux1_x86_64.whl (87.9MB)\n",
            "\u001b[K     |████████████████████████████████| 87.9MB 545kB/s \n",
            "\u001b[?25hRequirement already satisfied: wheel>=0.26 in /usr/local/lib/python3.6/dist-packages (from tensorflow==2.0.0b1) (0.33.6)\n",
            "Requirement already satisfied: astor>=0.6.0 in /usr/local/lib/python3.6/dist-packages (from tensorflow==2.0.0b1) (0.8.0)\n",
            "Requirement already satisfied: gast>=0.2.0 in /usr/local/lib/python3.6/dist-packages (from tensorflow==2.0.0b1) (0.2.2)\n",
            "Collecting tb-nightly<1.14.0a20190604,>=1.14.0a20190603 (from tensorflow==2.0.0b1)\n",
            "\u001b[?25l  Downloading https://files.pythonhosted.org/packages/a4/96/571b875cd81dda9d5dfa1422a4f9d749e67c0a8d4f4f0b33a4e5f5f35e27/tb_nightly-1.14.0a20190603-py3-none-any.whl (3.1MB)\n",
            "\u001b[K     |████████████████████████████████| 3.1MB 31.3MB/s \n",
            "\u001b[?25hRequirement already satisfied: numpy<2.0,>=1.14.5 in /usr/local/lib/python3.6/dist-packages (from tensorflow==2.0.0b1) (1.16.5)\n",
            "Collecting tf-estimator-nightly<1.14.0.dev2019060502,>=1.14.0.dev2019060501 (from tensorflow==2.0.0b1)\n",
            "\u001b[?25l  Downloading https://files.pythonhosted.org/packages/32/dd/99c47dd007dcf10d63fd895611b063732646f23059c618a373e85019eb0e/tf_estimator_nightly-1.14.0.dev2019060501-py2.py3-none-any.whl (496kB)\n",
            "\u001b[K     |████████████████████████████████| 501kB 47.5MB/s \n",
            "\u001b[?25hRequirement already satisfied: keras-preprocessing>=1.0.5 in /usr/local/lib/python3.6/dist-packages (from tensorflow==2.0.0b1) (1.1.0)\n",
            "Requirement already satisfied: wrapt>=1.11.1 in /usr/local/lib/python3.6/dist-packages (from tensorflow==2.0.0b1) (1.11.2)\n",
            "Requirement already satisfied: termcolor>=1.1.0 in /usr/local/lib/python3.6/dist-packages (from tensorflow==2.0.0b1) (1.1.0)\n",
            "Requirement already satisfied: absl-py>=0.7.0 in /usr/local/lib/python3.6/dist-packages (from tensorflow==2.0.0b1) (0.8.0)\n",
            "Requirement already satisfied: grpcio>=1.8.6 in /usr/local/lib/python3.6/dist-packages (from tensorflow==2.0.0b1) (1.15.0)\n",
            "Requirement already satisfied: protobuf>=3.6.1 in /usr/local/lib/python3.6/dist-packages (from tensorflow==2.0.0b1) (3.7.1)\n",
            "Requirement already satisfied: keras-applications>=1.0.6 in /usr/local/lib/python3.6/dist-packages (from tensorflow==2.0.0b1) (1.0.8)\n",
            "Requirement already satisfied: google-pasta>=0.1.6 in /usr/local/lib/python3.6/dist-packages (from tensorflow==2.0.0b1) (0.1.7)\n",
            "Requirement already satisfied: six>=1.10.0 in /usr/local/lib/python3.6/dist-packages (from tensorflow==2.0.0b1) (1.12.0)\n",
            "Requirement already satisfied: setuptools>=41.0.0 in /usr/local/lib/python3.6/dist-packages (from tb-nightly<1.14.0a20190604,>=1.14.0a20190603->tensorflow==2.0.0b1) (41.2.0)\n",
            "Requirement already satisfied: werkzeug>=0.11.15 in /usr/local/lib/python3.6/dist-packages (from tb-nightly<1.14.0a20190604,>=1.14.0a20190603->tensorflow==2.0.0b1) (0.16.0)\n",
            "Requirement already satisfied: markdown>=2.6.8 in /usr/local/lib/python3.6/dist-packages (from tb-nightly<1.14.0a20190604,>=1.14.0a20190603->tensorflow==2.0.0b1) (3.1.1)\n",
            "Requirement already satisfied: h5py in /usr/local/lib/python3.6/dist-packages (from keras-applications>=1.0.6->tensorflow==2.0.0b1) (2.8.0)\n",
            "Installing collected packages: tb-nightly, tf-estimator-nightly, tensorflow\n",
            "  Found existing installation: tensorflow 1.15.0rc3\n",
            "    Uninstalling tensorflow-1.15.0rc3:\n",
            "      Successfully uninstalled tensorflow-1.15.0rc3\n",
            "Successfully installed tb-nightly-1.14.0a20190603 tensorflow-2.0.0b1 tf-estimator-nightly-1.14.0.dev2019060501\n"
          ],
          "name": "stdout"
        }
      ]
    },
    {
      "cell_type": "code",
      "metadata": {
        "id": "56XEQOGknrAk",
        "colab_type": "code",
        "outputId": "05c62886-cc3d-412b-c54c-b27a80aa5aac",
        "colab": {
          "base_uri": "https://localhost:8080/",
          "height": 34
        }
      },
      "source": [
        "import tensorflow as tf\n",
        "print(tf.__version__)"
      ],
      "execution_count": 2,
      "outputs": [
        {
          "output_type": "stream",
          "text": [
            "2.0.0-beta1\n"
          ],
          "name": "stdout"
        }
      ]
    },
    {
      "cell_type": "code",
      "metadata": {
        "id": "sLl52leVp5wU",
        "colab_type": "code",
        "colab": {}
      },
      "source": [
        "import numpy as np\n",
        "import matplotlib.pyplot as plt\n",
        "# Create a helper function to plot the series\n",
        "def plot_series(time, series, format=\"-\", start=0, end=None):\n",
        "    plt.plot(time[start:end], series[start:end], format)\n",
        "    plt.xlabel(\"Time\")\n",
        "    plt.ylabel(\"Value\")\n",
        "    plt.grid(True)"
      ],
      "execution_count": 0,
      "outputs": []
    },
    {
      "cell_type": "code",
      "metadata": {
        "id": "4_3HOMAXNeGc",
        "colab_type": "code",
        "colab": {
          "resources": {
            "http://localhost:8080/nbextensions/google.colab/files.js": {
              "data": "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",
              "ok": true,
              "headers": [
                [
                  "content-type",
                  "application/javascript"
                ]
              ],
              "status": 200,
              "status_text": ""
            }
          },
          "base_uri": "https://localhost:8080/",
          "height": 71
        },
        "outputId": "7bc8f8f8-2e41-4573-8222-6d86613f9e67"
      },
      "source": [
        "# Use following function to upload data files\n",
        "from google.colab import files\n",
        "uploaded = files.upload()"
      ],
      "execution_count": 4,
      "outputs": [
        {
          "output_type": "display_data",
          "data": {
            "text/html": [
              "\n",
              "     <input type=\"file\" id=\"files-d8f50477-9f08-4e82-b857-86676fc26a0c\" name=\"files[]\" multiple disabled />\n",
              "     <output id=\"result-d8f50477-9f08-4e82-b857-86676fc26a0c\">\n",
              "      Upload widget is only available when the cell has been executed in the\n",
              "      current browser session. Please rerun this cell to enable.\n",
              "      </output>\n",
              "      <script src=\"/nbextensions/google.colab/files.js\"></script> "
            ],
            "text/plain": [
              "<IPython.core.display.HTML object>"
            ]
          },
          "metadata": {
            "tags": []
          }
        },
        {
          "output_type": "stream",
          "text": [
            "Saving AUS_job_ads_daily.csv to AUS_job_ads_daily.csv\n"
          ],
          "name": "stdout"
        }
      ]
    },
    {
      "cell_type": "code",
      "metadata": {
        "id": "NcG9r1eClbTh",
        "colab_type": "code",
        "outputId": "1e8474eb-19dd-4987-b839-a47b729daf22",
        "colab": {
          "base_uri": "https://localhost:8080/",
          "height": 392
        }
      },
      "source": [
        "import csv\n",
        "# Store the data in numpy lists.\n",
        "# The row integer references are used as time steps (not the dates)\n",
        "time_step = []\n",
        "job_ads = []\n",
        "\n",
        "with open('AUS_job_ads_daily.csv') as csvfile:\n",
        "  reader = csv.reader(csvfile, delimiter=',')\n",
        "  # Skip the header row\n",
        "  next(reader)\n",
        "  step=0\n",
        "  for row in reader:\n",
        "    # convert each temp into a float\n",
        "    job_ads.append(int(row[1]))\n",
        "    time_step.append(step)\n",
        "    step = step + 1\n",
        "\n",
        "# Save the lists into numpy arrays and plot to visualise\n",
        "series = np.array(job_ads)\n",
        "time = np.array(time_step)\n",
        "plt.figure(figsize=(10, 6))\n",
        "plot_series(time, series)"
      ],
      "execution_count": 5,
      "outputs": [
        {
          "output_type": "display_data",
          "data": {
            "image/png": "[encoded data removed]",
            "text/plain": [
              "<Figure size 720x432 with 1 Axes>"
            ]
          },
          "metadata": {
            "tags": []
          }
        }
      ]
    },
    {
      "cell_type": "code",
      "metadata": {
        "id": "L92YRw_IpCFG",
        "colab_type": "code",
        "colab": {}
      },
      "source": [
        "# Designate the split time. This split uses the last 365 days as validation.\n",
        "split_time = 2251\n",
        "# Specify the training set\n",
        "time_train = time[:split_time]\n",
        "x_train = series[:split_time]\n",
        "# Specify the validation set\n",
        "time_valid = time[split_time:]\n",
        "x_valid = series[split_time:]\n",
        "\n",
        "# Set the constants. \n",
        "# It can be good to make the window and batch sizes divisible by the time length.\n",
        "window_size = 30\n",
        "batch_size = 32\n",
        "shuffle_buffer_size = 1000"
      ],
      "execution_count": 0,
      "outputs": []
    },
    {
      "cell_type": "code",
      "metadata": {
        "id": "FLMbYpF1DSww",
        "colab_type": "code",
        "outputId": "5f7332c1-e87e-4f02-dec8-6f4fd1dc2315",
        "colab": {
          "base_uri": "https://localhost:8080/",
          "height": 34
        }
      },
      "source": [
        "len(time)"
      ],
      "execution_count": 8,
      "outputs": [
        {
          "output_type": "execute_result",
          "data": {
            "text/plain": [
              "2616"
            ]
          },
          "metadata": {
            "tags": []
          },
          "execution_count": 8
        }
      ]
    },
    {
      "cell_type": "code",
      "metadata": {
        "id": "lJwUUZscnG38",
        "colab_type": "code",
        "colab": {}
      },
      "source": [
        "# Define the window function.\n",
        "def windowed_dataset(series, window_size, batch_size, shuffle_buffer):\n",
        "    series = tf.expand_dims(series, axis=-1)\n",
        "    ds = tf.data.Dataset.from_tensor_slices(series)\n",
        "    ds = ds.window(window_size + 1, shift=1, drop_remainder=True)\n",
        "    ds = ds.flat_map(lambda w: w.batch(window_size + 1))\n",
        "    ds = ds.shuffle(shuffle_buffer)\n",
        "    ds = ds.map(lambda w: (w[:-1], w[1:]))\n",
        "    return ds.batch(batch_size).prefetch(1)"
      ],
      "execution_count": 0,
      "outputs": []
    },
    {
      "cell_type": "code",
      "metadata": {
        "id": "4XwGrf-A_wF0",
        "colab_type": "code",
        "colab": {}
      },
      "source": [
        "# Define the model forecast function.\n",
        "def model_forecast(model, series, window_size):\n",
        "    ds = tf.data.Dataset.from_tensor_slices(series)\n",
        "    ds = ds.window(window_size, shift=1, drop_remainder=True)\n",
        "    ds = ds.flat_map(lambda w: w.batch(window_size))\n",
        "    ds = ds.batch(32).prefetch(1)\n",
        "    forecast = model.predict(ds)\n",
        "    return forecast"
      ],
      "execution_count": 0,
      "outputs": []
    },
    {
      "cell_type": "code",
      "metadata": {
        "id": "AclfYY3Mn6Ph",
        "colab_type": "code",
        "outputId": "bda2cc10-5bb3-4a3f-c9fa-0a65744621a6",
        "colab": {
          "base_uri": "https://localhost:8080/",
          "height": 1000
        }
      },
      "source": [
        "tf.keras.backend.clear_session()\n",
        "tf.random.set_seed(51)\n",
        "np.random.seed(51)\n",
        "window_size = 64\n",
        "batch_size = 256\n",
        "train_set = windowed_dataset(x_train, window_size, batch_size, shuffle_buffer_size)\n",
        "print(train_set)\n",
        "print(x_train.shape)\n",
        "\n",
        "model = tf.keras.models.Sequential([\n",
        "  tf.keras.layers.Conv1D(filters=32, kernel_size=5,\n",
        "                      strides=1, padding=\"causal\",\n",
        "                      activation=\"relu\",\n",
        "                      input_shape=[None, 1]),\n",
        "  tf.keras.layers.LSTM(64, return_sequences=True),\n",
        "  tf.keras.layers.LSTM(64, return_sequences=True),\n",
        "  tf.keras.layers.Dense(30, activation=\"relu\"),\n",
        "  tf.keras.layers.Dense(10, activation=\"relu\"),\n",
        "  tf.keras.layers.Dense(1),\n",
        "  tf.keras.layers.Lambda(lambda x: x * 400)\n",
        "])\n",
        "\n",
        "lr_schedule = tf.keras.callbacks.LearningRateScheduler(\n",
        "    lambda epoch: 1e-8 * 10**(epoch / 20))\n",
        "optimizer = tf.keras.optimizers.SGD(lr=1e-8, momentum=0.9)\n",
        "model.compile(loss=tf.keras.losses.Huber(),\n",
        "              optimizer=optimizer,\n",
        "              metrics=[\"mae\"])\n",
        "history = model.fit(train_set, epochs=100, callbacks=[lr_schedule])"
      ],
      "execution_count": 11,
      "outputs": [
        {
          "output_type": "stream",
          "text": [
            "WARNING:tensorflow:From /usr/local/lib/python3.6/dist-packages/tensorflow/python/data/util/random_seed.py:58: add_dispatch_support.<locals>.wrapper (from tensorflow.python.ops.array_ops) is deprecated and will be removed in a future version.\n",
            "Instructions for updating:\n",
            "Use tf.where in 2.0, which has the same broadcast rule as np.where\n",
            "<PrefetchDataset shapes: ((None, None, 1), (None, None, 1)), types: (tf.int64, tf.int64)>\n",
            "(2251,)\n",
            "Epoch 1/100\n",
            "9/9 [==============================] - 6s 706ms/step - loss: 2526.8720 - mae: 2514.5405\n",
            "Epoch 2/100\n",
            "9/9 [==============================] - 4s 410ms/step - loss: 2524.1498 - mae: 2513.1201\n",
            "Epoch 3/100\n",
            "9/9 [==============================] - 4s 413ms/step - loss: 2521.9499 - mae: 2510.9326\n",
            "Epoch 4/100\n",
            "9/9 [==============================] - 4s 411ms/step - loss: 2519.2101 - mae: 2508.1985\n",
            "Epoch 5/100\n",
            "9/9 [==============================] - 4s 412ms/step - loss: 2516.1588 - mae: 2505.1531\n",
            "Epoch 6/100\n",
            "9/9 [==============================] - 4s 413ms/step - loss: 2512.7863 - mae: 2501.7876\n",
            "Epoch 7/100\n",
            "9/9 [==============================] - 4s 411ms/step - loss: 2509.1110 - mae: 2498.1184\n",
            "Epoch 8/100\n",
            "9/9 [==============================] - 4s 410ms/step - loss: 2505.0486 - mae: 2494.0662\n",
            "Epoch 9/100\n",
            "9/9 [==============================] - 4s 412ms/step - loss: 2500.5179 - mae: 2489.5486\n",
            "Epoch 10/100\n",
            "9/9 [==============================] - 4s 409ms/step - loss: 2495.2462 - mae: 2484.2930\n",
            "Epoch 11/100\n",
            "9/9 [==============================] - 4s 408ms/step - loss: 2489.4774 - mae: 2478.5396\n",
            "Epoch 12/100\n",
            "9/9 [==============================] - 4s 413ms/step - loss: 2483.1547 - mae: 2472.2319\n",
            "Epoch 13/100\n",
            "9/9 [==============================] - 4s 413ms/step - loss: 2476.2138 - mae: 2465.3066\n",
            "Epoch 14/100\n",
            "9/9 [==============================] - 4s 408ms/step - loss: 2468.4133 - mae: 2457.5293\n",
            "Epoch 15/100\n",
            "9/9 [==============================] - 4s 414ms/step - loss: 2459.8066 - mae: 2448.9495\n",
            "Epoch 16/100\n",
            "9/9 [==============================] - 4s 415ms/step - loss: 2449.9476 - mae: 2439.1265\n",
            "Epoch 17/100\n",
            "9/9 [==============================] - 4s 409ms/step - loss: 2438.5964 - mae: 2427.8083\n",
            "Epoch 18/100\n",
            "9/9 [==============================] - 4s 414ms/step - loss: 2425.7695 - mae: 2415.0054\n",
            "Epoch 19/100\n",
            "9/9 [==============================] - 4s 417ms/step - loss: 2411.4690 - mae: 2400.7480\n",
            "Epoch 20/100\n",
            "9/9 [==============================] - 4s 410ms/step - loss: 2395.1488 - mae: 2384.4639\n",
            "Epoch 21/100\n",
            "9/9 [==============================] - 4s 414ms/step - loss: 2376.4065 - mae: 2365.7920\n",
            "Epoch 22/100\n",
            "9/9 [==============================] - 4s 416ms/step - loss: 2355.5658 - mae: 2345.0022\n",
            "Epoch 23/100\n",
            "9/9 [==============================] - 4s 410ms/step - loss: 2332.4765 - mae: 2321.9724\n",
            "Epoch 24/100\n",
            "9/9 [==============================] - 4s 416ms/step - loss: 2306.3163 - mae: 2295.8650\n",
            "Epoch 25/100\n",
            "9/9 [==============================] - 4s 411ms/step - loss: 2278.4001 - mae: 2268.0132\n",
            "Epoch 26/100\n",
            "9/9 [==============================] - 4s 410ms/step - loss: 2246.8881 - mae: 2236.5913\n",
            "Epoch 27/100\n",
            "9/9 [==============================] - 4s 409ms/step - loss: 2212.5537 - mae: 2202.3110\n",
            "Epoch 28/100\n",
            "9/9 [==============================] - 4s 414ms/step - loss: 2175.7930 - mae: 2165.6487\n",
            "Epoch 29/100\n",
            "9/9 [==============================] - 4s 410ms/step - loss: 2134.7576 - mae: 2124.7400\n",
            "Epoch 30/100\n",
            "9/9 [==============================] - 4s 417ms/step - loss: 2088.7093 - mae: 2078.8591\n",
            "Epoch 31/100\n",
            "9/9 [==============================] - 4s 414ms/step - loss: 2036.4775 - mae: 2026.8478\n",
            "Epoch 32/100\n",
            "9/9 [==============================] - 4s 420ms/step - loss: 1976.2233 - mae: 1966.8555\n",
            "Epoch 33/100\n",
            "9/9 [==============================] - 4s 416ms/step - loss: 1907.6204 - mae: 1898.5249\n",
            "Epoch 34/100\n",
            "9/9 [==============================] - 4s 410ms/step - loss: 1830.6945 - mae: 1822.0010\n",
            "Epoch 35/100\n",
            "9/9 [==============================] - 4s 417ms/step - loss: 1742.4214 - mae: 1734.1891\n",
            "Epoch 36/100\n",
            "9/9 [==============================] - 4s 416ms/step - loss: 1644.6979 - mae: 1636.9711\n",
            "Epoch 37/100\n",
            "9/9 [==============================] - 4s 409ms/step - loss: 1543.1975 - mae: 1536.1207\n",
            "Epoch 38/100\n",
            "9/9 [==============================] - 4s 416ms/step - loss: 1444.9172 - mae: 1438.6334\n",
            "Epoch 39/100\n",
            "9/9 [==============================] - 4s 414ms/step - loss: 1358.4135 - mae: 1352.9640\n",
            "Epoch 40/100\n",
            "9/9 [==============================] - 4s 411ms/step - loss: 1299.0374 - mae: 1294.4088\n",
            "Epoch 41/100\n",
            "9/9 [==============================] - 4s 417ms/step - loss: 1267.8721 - mae: 1264.0974\n",
            "Epoch 42/100\n",
            "9/9 [==============================] - 4s 412ms/step - loss: 1256.6879 - mae: 1253.5835\n",
            "Epoch 43/100\n",
            "9/9 [==============================] - 4s 412ms/step - loss: 1254.8143 - mae: 1252.1520\n",
            "Epoch 44/100\n",
            "9/9 [==============================] - 4s 415ms/step - loss: 1255.1808 - mae: 1252.7167\n",
            "Epoch 45/100\n",
            "9/9 [==============================] - 4s 412ms/step - loss: 1255.0980 - mae: 1252.6160\n",
            "Epoch 46/100\n",
            "9/9 [==============================] - 4s 411ms/step - loss: 1254.2390 - mae: 1251.6526\n",
            "Epoch 47/100\n",
            "9/9 [==============================] - 4s 414ms/step - loss: 1253.0336 - mae: 1250.3466\n",
            "Epoch 48/100\n",
            "9/9 [==============================] - 4s 413ms/step - loss: 1251.6289 - mae: 1248.9227\n",
            "Epoch 49/100\n",
            "9/9 [==============================] - 4s 418ms/step - loss: 1250.2894 - mae: 1247.5901\n",
            "Epoch 50/100\n",
            "9/9 [==============================] - 4s 417ms/step - loss: 1248.7321 - mae: 1246.1031\n",
            "Epoch 51/100\n",
            "9/9 [==============================] - 4s 421ms/step - loss: 1248.2053 - mae: 1245.5670\n",
            "Epoch 52/100\n",
            "9/9 [==============================] - 4s 422ms/step - loss: 1245.4768 - mae: 1242.8661\n",
            "Epoch 53/100\n",
            "9/9 [==============================] - 4s 418ms/step - loss: 1243.4844 - mae: 1240.9401\n",
            "Epoch 54/100\n",
            "9/9 [==============================] - 4s 413ms/step - loss: 1240.6220 - mae: 1238.0845\n",
            "Epoch 55/100\n",
            "9/9 [==============================] - 4s 416ms/step - loss: 1238.0626 - mae: 1235.5458\n",
            "Epoch 56/100\n",
            "9/9 [==============================] - 4s 414ms/step - loss: 1236.5447 - mae: 1234.0859\n",
            "Epoch 57/100\n",
            "9/9 [==============================] - 4s 413ms/step - loss: 1235.5673 - mae: 1233.0524\n",
            "Epoch 58/100\n",
            "9/9 [==============================] - 4s 412ms/step - loss: 1229.2575 - mae: 1226.8624\n",
            "Epoch 59/100\n",
            "9/9 [==============================] - 4s 413ms/step - loss: 1231.9201 - mae: 1229.4951\n",
            "Epoch 60/100\n",
            "9/9 [==============================] - 4s 414ms/step - loss: 1223.4649 - mae: 1221.4232\n",
            "Epoch 61/100\n",
            "9/9 [==============================] - 4s 409ms/step - loss: 1238.8553 - mae: 1237.5742\n",
            "Epoch 62/100\n",
            "9/9 [==============================] - 4s 411ms/step - loss: 1246.2717 - mae: 1244.5638\n",
            "Epoch 63/100\n",
            "9/9 [==============================] - 4s 415ms/step - loss: 1222.6099 - mae: 1221.1005\n",
            "Epoch 64/100\n",
            "9/9 [==============================] - 4s 417ms/step - loss: 1222.1706 - mae: 1221.0286\n",
            "Epoch 65/100\n",
            "9/9 [==============================] - 4s 417ms/step - loss: 1267.3123 - mae: 1268.4374\n",
            "Epoch 66/100\n",
            "9/9 [==============================] - 4s 421ms/step - loss: 1274.8225 - mae: 1273.7114\n",
            "Epoch 67/100\n",
            "9/9 [==============================] - 4s 415ms/step - loss: 1208.9668 - mae: 1207.6368\n",
            "Epoch 68/100\n",
            "9/9 [==============================] - 4s 428ms/step - loss: 1226.0473 - mae: 1225.6296\n",
            "Epoch 69/100\n",
            "9/9 [==============================] - 4s 418ms/step - loss: 1252.1347 - mae: 1253.1035\n",
            "Epoch 70/100\n",
            "9/9 [==============================] - 4s 415ms/step - loss: 1250.1116 - mae: 1250.7092\n",
            "Epoch 71/100\n",
            "9/9 [==============================] - 4s 410ms/step - loss: 1218.1736 - mae: 1218.2888\n",
            "Epoch 72/100\n",
            "9/9 [==============================] - 4s 418ms/step - loss: 1210.6531 - mae: 1211.2261\n",
            "Epoch 73/100\n",
            "9/9 [==============================] - 4s 412ms/step - loss: 1238.8715 - mae: 1240.0187\n",
            "Epoch 74/100\n",
            "9/9 [==============================] - 4s 415ms/step - loss: 1272.1442 - mae: 1274.3480\n",
            "Epoch 75/100\n",
            "9/9 [==============================] - 4s 414ms/step - loss: 1280.1034 - mae: 1283.1670\n",
            "Epoch 76/100\n",
            "9/9 [==============================] - 4s 420ms/step - loss: 1309.2663 - mae: 1313.8290\n",
            "Epoch 77/100\n",
            "9/9 [==============================] - 4s 417ms/step - loss: 1309.8044 - mae: 1312.6851\n",
            "Epoch 78/100\n",
            "9/9 [==============================] - 4s 414ms/step - loss: 1241.1823 - mae: 1242.5035\n",
            "Epoch 79/100\n",
            "9/9 [==============================] - 4s 415ms/step - loss: 1232.0715 - mae: 1233.4330\n",
            "Epoch 80/100\n",
            "9/9 [==============================] - 4s 418ms/step - loss: 1275.2106 - mae: 1278.8236\n",
            "Epoch 81/100\n",
            "9/9 [==============================] - 4s 414ms/step - loss: 1323.6663 - mae: 1329.4601\n",
            "Epoch 82/100\n",
            "9/9 [==============================] - 4s 415ms/step - loss: 1274.9799 - mae: 1278.0291\n",
            "Epoch 83/100\n",
            "9/9 [==============================] - 4s 417ms/step - loss: 1299.5886 - mae: 1303.1016\n",
            "Epoch 84/100\n",
            "9/9 [==============================] - 4s 415ms/step - loss: 1261.9813 - mae: 1263.5443\n",
            "Epoch 85/100\n",
            "9/9 [==============================] - 4s 416ms/step - loss: 1234.8784 - mae: 1236.3394\n",
            "Epoch 86/100\n",
            "9/9 [==============================] - 4s 416ms/step - loss: 1261.0218 - mae: 1263.0679\n",
            "Epoch 87/100\n",
            "9/9 [==============================] - 4s 410ms/step - loss: 1272.6644 - mae: 1275.3286\n",
            "Epoch 88/100\n",
            "9/9 [==============================] - 4s 417ms/step - loss: 1305.2090 - mae: 1305.9312\n",
            "Epoch 89/100\n",
            "9/9 [==============================] - 4s 412ms/step - loss: 1220.5668 - mae: 1220.5103\n",
            "Epoch 90/100\n",
            "9/9 [==============================] - 4s 406ms/step - loss: 1219.1149 - mae: 1218.6772\n",
            "Epoch 91/100\n",
            "9/9 [==============================] - 4s 416ms/step - loss: 1288.3331 - mae: 1289.8353\n",
            "Epoch 92/100\n",
            "9/9 [==============================] - 4s 409ms/step - loss: 1273.1356 - mae: 1272.5894\n",
            "Epoch 93/100\n",
            "9/9 [==============================] - 4s 415ms/step - loss: 1196.7935 - mae: 1195.3638\n",
            "Epoch 94/100\n",
            "9/9 [==============================] - 4s 416ms/step - loss: 1303.4389 - mae: 1304.6537\n",
            "Epoch 95/100\n",
            "9/9 [==============================] - 4s 411ms/step - loss: 1271.7565 - mae: 1269.9276\n",
            "Epoch 96/100\n",
            "9/9 [==============================] - 4s 416ms/step - loss: 1231.1750 - mae: 1229.2021\n",
            "Epoch 97/100\n",
            "9/9 [==============================] - 4s 413ms/step - loss: 1247.2024 - mae: 1245.0800\n",
            "Epoch 98/100\n",
            "9/9 [==============================] - 4s 409ms/step - loss: 1234.9879 - mae: 1233.2172\n",
            "Epoch 99/100\n",
            "9/9 [==============================] - 4s 416ms/step - loss: 1255.7424 - mae: 1253.0604\n",
            "Epoch 100/100\n",
            "9/9 [==============================] - 4s 413ms/step - loss: 1229.1835 - mae: 1227.0596\n"
          ],
          "name": "stdout"
        }
      ]
    },
    {
      "cell_type": "code",
      "metadata": {
        "id": "vVcKmg7Q_7rD",
        "colab_type": "code",
        "outputId": "57a49b07-7d3a-418b-e2f1-b92d741cba93",
        "colab": {
          "base_uri": "https://localhost:8080/",
          "height": 290
        }
      },
      "source": [
        "plt.semilogx(history.history[\"lr\"], history.history[\"loss\"])\n",
        "plt.axis([1e-8, 1e-4, 1000, 2700])"
      ],
      "execution_count": 15,
      "outputs": [
        {
          "output_type": "execute_result",
          "data": {
            "text/plain": [
              "[1e-08, 0.0001, 1000, 2700]"
            ]
          },
          "metadata": {
            "tags": []
          },
          "execution_count": 15
        },
        {
          "output_type": "display_data",
          "data": {
            "image/png": "[encoded data removed]",
            "text/plain": [
              "<Figure size 432x288 with 1 Axes>"
            ]
          },
          "metadata": {
            "tags": []
          }
        }
      ]
    },
    {
      "cell_type": "markdown",
      "metadata": {
        "id": "R8phjR0hHZbO",
        "colab_type": "text"
      },
      "source": [
        "The learning rate is a hyperparameter that controls how much to change the model in response to the estimated error each time the model weights are updated. \n",
        "\n",
        "The learning rate may be the most important hyperparameter when configuring your neural network. \n",
        "\n",
        "Smaller learning rates require more training epochs given the smaller changes made to the weights each update, whereas larger learning rates result in rapid changes and require fewer training epochs.\n",
        "\n",
        "## Learning Rate Schedule\n",
        "\n",
        "The way in which the learning rate changes over time (training epochs) is referred to as the learning rate schedule or learning rate decay."
      ]
    },
    {
      "cell_type": "code",
      "metadata": {
        "id": "QsksvkcXAAgq",
        "colab_type": "code",
        "outputId": "e118ea49-cf28-4537-e25a-a7c573d1554f",
        "colab": {
          "base_uri": "https://localhost:8080/",
          "height": 1000
        }
      },
      "source": [
        "tf.keras.backend.clear_session()\n",
        "tf.random.set_seed(51)\n",
        "np.random.seed(51)\n",
        "train_set = windowed_dataset(x_train, window_size=60, batch_size=100, shuffle_buffer=shuffle_buffer_size)\n",
        "model = tf.keras.models.Sequential([\n",
        "  tf.keras.layers.Conv1D(filters=60, kernel_size=5,\n",
        "                      strides=1, padding=\"causal\",\n",
        "                      activation=\"relu\",\n",
        "                      input_shape=[None, 1]),\n",
        "  tf.keras.layers.LSTM(60, return_sequences=True),\n",
        "  tf.keras.layers.LSTM(60, return_sequences=True),\n",
        "  tf.keras.layers.Dense(30, activation=\"relu\"),\n",
        "  tf.keras.layers.Dense(10, activation=\"relu\"),\n",
        "  tf.keras.layers.Dense(1),\n",
        "  tf.keras.layers.Lambda(lambda x: x * 400)\n",
        "])\n",
        "\n",
        "# We can see from above that performance begins to deteriorate at lr=1e-5\n",
        "# So try lr=1e-6\n",
        "optimizer = tf.keras.optimizers.SGD(lr=1e-6, momentum=0.9)\n",
        "model.compile(loss=tf.keras.losses.Huber(),\n",
        "              optimizer=optimizer,\n",
        "              metrics=[\"mae\"])\n",
        "# Increase epochs to 150\n",
        "history = model.fit(train_set,epochs=150)"
      ],
      "execution_count": 16,
      "outputs": [
        {
          "output_type": "stream",
          "text": [
            "Epoch 1/150\n",
            "22/22 [==============================] - 6s 278ms/step - loss: 2442.4839 - mae: 2442.4680\n",
            "Epoch 2/150\n",
            "22/22 [==============================] - 3s 150ms/step - loss: 2135.6090 - mae: 2135.7671\n",
            "Epoch 3/150\n",
            "22/22 [==============================] - 3s 151ms/step - loss: 1763.3179 - mae: 1763.6779\n",
            "Epoch 4/150\n",
            "22/22 [==============================] - 3s 152ms/step - loss: 1396.5171 - mae: 1396.8529\n",
            "Epoch 5/150\n",
            "22/22 [==============================] - 3s 150ms/step - loss: 1251.5079 - mae: 1251.7208\n",
            "Epoch 6/150\n",
            "22/22 [==============================] - 3s 152ms/step - loss: 1247.2716 - mae: 1247.5168\n",
            "Epoch 7/150\n",
            "22/22 [==============================] - 3s 153ms/step - loss: 1248.4125 - mae: 1248.6548\n",
            "Epoch 8/150\n",
            "22/22 [==============================] - 3s 151ms/step - loss: 1246.4265 - mae: 1246.6608\n",
            "Epoch 9/150\n",
            "22/22 [==============================] - 3s 152ms/step - loss: 1244.2391 - mae: 1244.4713\n",
            "Epoch 10/150\n",
            "22/22 [==============================] - 3s 154ms/step - loss: 1241.3413 - mae: 1241.5724\n",
            "Epoch 11/150\n",
            "22/22 [==============================] - 3s 153ms/step - loss: 1239.5919 - mae: 1239.8199\n",
            "Epoch 12/150\n",
            "22/22 [==============================] - 3s 153ms/step - loss: 1234.9765 - mae: 1235.2112\n",
            "Epoch 13/150\n",
            "22/22 [==============================] - 3s 152ms/step - loss: 1232.1284 - mae: 1232.3623\n",
            "Epoch 14/150\n",
            "22/22 [==============================] - 3s 152ms/step - loss: 1230.8081 - mae: 1231.0502\n",
            "Epoch 15/150\n",
            "22/22 [==============================] - 3s 150ms/step - loss: 1226.7523 - mae: 1227.0010\n",
            "Epoch 16/150\n",
            "22/22 [==============================] - 3s 153ms/step - loss: 1241.6882 - mae: 1241.9677\n",
            "Epoch 17/150\n",
            "22/22 [==============================] - 3s 154ms/step - loss: 1236.2345 - mae: 1236.4813\n",
            "Epoch 18/150\n",
            "22/22 [==============================] - 3s 151ms/step - loss: 1228.5429 - mae: 1228.7847\n",
            "Epoch 19/150\n",
            "22/22 [==============================] - 3s 150ms/step - loss: 1229.3973 - mae: 1229.6550\n",
            "Epoch 20/150\n",
            "22/22 [==============================] - 3s 151ms/step - loss: 1227.2360 - mae: 1227.4995\n",
            "Epoch 21/150\n",
            "22/22 [==============================] - 3s 149ms/step - loss: 1223.3326 - mae: 1223.5841\n",
            "Epoch 22/150\n",
            "22/22 [==============================] - 3s 151ms/step - loss: 1219.6370 - mae: 1219.8887\n",
            "Epoch 23/150\n",
            "22/22 [==============================] - 3s 152ms/step - loss: 1218.8179 - mae: 1219.0901\n",
            "Epoch 24/150\n",
            "22/22 [==============================] - 3s 149ms/step - loss: 1213.1609 - mae: 1213.4252\n",
            "Epoch 25/150\n",
            "22/22 [==============================] - 3s 149ms/step - loss: 1213.2375 - mae: 1213.4938\n",
            "Epoch 26/150\n",
            "22/22 [==============================] - 3s 153ms/step - loss: 1206.4275 - mae: 1206.6913\n",
            "Epoch 27/150\n",
            "22/22 [==============================] - 3s 151ms/step - loss: 1207.9737 - mae: 1208.2445\n",
            "Epoch 28/150\n",
            "22/22 [==============================] - 3s 151ms/step - loss: 1209.3134 - mae: 1209.6000\n",
            "Epoch 29/150\n",
            "22/22 [==============================] - 3s 151ms/step - loss: 1208.0203 - mae: 1208.3241\n",
            "Epoch 30/150\n",
            "22/22 [==============================] - 3s 149ms/step - loss: 1205.9520 - mae: 1206.2600\n",
            "Epoch 31/150\n",
            "22/22 [==============================] - 3s 152ms/step - loss: 1207.0965 - mae: 1207.4109\n",
            "Epoch 32/150\n",
            "22/22 [==============================] - 3s 151ms/step - loss: 1202.1685 - mae: 1202.4724\n",
            "Epoch 33/150\n",
            "22/22 [==============================] - 3s 151ms/step - loss: 1204.0133 - mae: 1204.3379\n",
            "Epoch 34/150\n",
            "22/22 [==============================] - 3s 150ms/step - loss: 1196.3019 - mae: 1196.5878\n",
            "Epoch 35/150\n",
            "22/22 [==============================] - 3s 151ms/step - loss: 1186.7387 - mae: 1187.0361\n",
            "Epoch 36/150\n",
            "22/22 [==============================] - 3s 151ms/step - loss: 1207.7630 - mae: 1208.1034\n",
            "Epoch 37/150\n",
            "22/22 [==============================] - 3s 151ms/step - loss: 1191.4417 - mae: 1191.7577\n",
            "Epoch 38/150\n",
            "22/22 [==============================] - 3s 154ms/step - loss: 1185.5475 - mae: 1185.8481\n",
            "Epoch 39/150\n",
            "22/22 [==============================] - 3s 151ms/step - loss: 1196.8472 - mae: 1197.1873\n",
            "Epoch 40/150\n",
            "22/22 [==============================] - 3s 153ms/step - loss: 1186.8334 - mae: 1187.1638\n",
            "Epoch 41/150\n",
            "22/22 [==============================] - 3s 152ms/step - loss: 1178.7643 - mae: 1179.0797\n",
            "Epoch 42/150\n",
            "22/22 [==============================] - 3s 150ms/step - loss: 1179.4024 - mae: 1179.7361\n",
            "Epoch 43/150\n",
            "22/22 [==============================] - 3s 151ms/step - loss: 1177.5781 - mae: 1177.9174\n",
            "Epoch 44/150\n",
            "22/22 [==============================] - 3s 152ms/step - loss: 1171.4322 - mae: 1171.7625\n",
            "Epoch 45/150\n",
            "22/22 [==============================] - 3s 150ms/step - loss: 1164.5783 - mae: 1164.9169\n",
            "Epoch 46/150\n",
            "22/22 [==============================] - 3s 150ms/step - loss: 1165.9785 - mae: 1166.3545\n",
            "Epoch 47/150\n",
            "22/22 [==============================] - 3s 151ms/step - loss: 1158.4425 - mae: 1158.7946\n",
            "Epoch 48/150\n",
            "22/22 [==============================] - 3s 154ms/step - loss: 1159.1691 - mae: 1159.5305\n",
            "Epoch 49/150\n",
            "22/22 [==============================] - 3s 153ms/step - loss: 1166.7443 - mae: 1167.1130\n",
            "Epoch 50/150\n",
            "22/22 [==============================] - 3s 150ms/step - loss: 1158.7688 - mae: 1159.1523\n",
            "Epoch 51/150\n",
            "22/22 [==============================] - 3s 151ms/step - loss: 1149.2365 - mae: 1149.5699\n",
            "Epoch 52/150\n",
            "22/22 [==============================] - 3s 151ms/step - loss: 1135.8714 - mae: 1136.1857\n",
            "Epoch 53/150\n",
            "22/22 [==============================] - 3s 151ms/step - loss: 1161.4141 - mae: 1161.8018\n",
            "Epoch 54/150\n",
            "22/22 [==============================] - 3s 154ms/step - loss: 1148.1701 - mae: 1148.5674\n",
            "Epoch 55/150\n",
            "22/22 [==============================] - 3s 149ms/step - loss: 1140.2630 - mae: 1140.6326\n",
            "Epoch 56/150\n",
            "22/22 [==============================] - 3s 150ms/step - loss: 1140.6930 - mae: 1141.0278\n",
            "Epoch 57/150\n",
            "22/22 [==============================] - 3s 151ms/step - loss: 1148.4426 - mae: 1148.8499\n",
            "Epoch 58/150\n",
            "22/22 [==============================] - 3s 151ms/step - loss: 1151.9563 - mae: 1152.3850\n",
            "Epoch 59/150\n",
            "22/22 [==============================] - 3s 154ms/step - loss: 1141.0122 - mae: 1141.4147\n",
            "Epoch 60/150\n",
            "22/22 [==============================] - 3s 154ms/step - loss: 1141.0927 - mae: 1141.4714\n",
            "Epoch 61/150\n",
            "22/22 [==============================] - 3s 152ms/step - loss: 1138.2018 - mae: 1138.5785\n",
            "Epoch 62/150\n",
            "22/22 [==============================] - 3s 154ms/step - loss: 1136.7835 - mae: 1137.1422\n",
            "Epoch 63/150\n",
            "22/22 [==============================] - 3s 154ms/step - loss: 1133.9832 - mae: 1134.3759\n",
            "Epoch 64/150\n",
            "22/22 [==============================] - 3s 153ms/step - loss: 1130.8965 - mae: 1131.2616\n",
            "Epoch 65/150\n",
            "22/22 [==============================] - 3s 154ms/step - loss: 1127.1474 - mae: 1127.5284\n",
            "Epoch 66/150\n",
            "22/22 [==============================] - 3s 152ms/step - loss: 1125.7756 - mae: 1126.1875\n",
            "Epoch 67/150\n",
            "22/22 [==============================] - 3s 152ms/step - loss: 1122.1436 - mae: 1122.5443\n",
            "Epoch 68/150\n",
            "22/22 [==============================] - 3s 149ms/step - loss: 1119.0739 - mae: 1119.4351\n",
            "Epoch 69/150\n",
            "22/22 [==============================] - 3s 151ms/step - loss: 1122.3734 - mae: 1122.7666\n",
            "Epoch 70/150\n",
            "22/22 [==============================] - 3s 150ms/step - loss: 1110.7925 - mae: 1111.1864\n",
            "Epoch 71/150\n",
            "22/22 [==============================] - 3s 150ms/step - loss: 1112.8193 - mae: 1113.1825\n",
            "Epoch 72/150\n",
            "22/22 [==============================] - 3s 153ms/step - loss: 1110.7404 - mae: 1111.1364\n",
            "Epoch 73/150\n",
            "22/22 [==============================] - 3s 151ms/step - loss: 1115.8388 - mae: 1116.2244\n",
            "Epoch 74/150\n",
            "22/22 [==============================] - 3s 151ms/step - loss: 1118.7135 - mae: 1119.0723\n",
            "Epoch 75/150\n",
            "22/22 [==============================] - 3s 153ms/step - loss: 1116.0393 - mae: 1116.4502\n",
            "Epoch 76/150\n",
            "22/22 [==============================] - 3s 152ms/step - loss: 1110.7909 - mae: 1111.1771\n",
            "Epoch 77/150\n",
            "22/22 [==============================] - 3s 152ms/step - loss: 1104.8925 - mae: 1105.2859\n",
            "Epoch 78/150\n",
            "22/22 [==============================] - 3s 152ms/step - loss: 1090.5357 - mae: 1090.9028\n",
            "Epoch 79/150\n",
            "22/22 [==============================] - 3s 152ms/step - loss: 1100.5721 - mae: 1100.9302\n",
            "Epoch 80/150\n",
            "22/22 [==============================] - 3s 150ms/step - loss: 1113.8107 - mae: 1114.2009\n",
            "Epoch 81/150\n",
            "22/22 [==============================] - 3s 150ms/step - loss: 1116.7847 - mae: 1117.1855\n",
            "Epoch 82/150\n",
            "22/22 [==============================] - 3s 149ms/step - loss: 1117.3471 - mae: 1117.7417\n",
            "Epoch 83/150\n",
            "22/22 [==============================] - 3s 153ms/step - loss: 1110.0871 - mae: 1110.5385\n",
            "Epoch 84/150\n",
            "22/22 [==============================] - 3s 149ms/step - loss: 1104.7069 - mae: 1105.0969\n",
            "Epoch 85/150\n",
            "22/22 [==============================] - 3s 151ms/step - loss: 1101.5474 - mae: 1101.9430\n",
            "Epoch 86/150\n",
            "22/22 [==============================] - 3s 151ms/step - loss: 1088.8902 - mae: 1089.3262\n",
            "Epoch 87/150\n",
            "22/22 [==============================] - 3s 151ms/step - loss: 1077.0871 - mae: 1077.4972\n",
            "Epoch 88/150\n",
            "22/22 [==============================] - 3s 149ms/step - loss: 1073.8609 - mae: 1074.2336\n",
            "Epoch 89/150\n",
            "22/22 [==============================] - 3s 150ms/step - loss: 1076.3359 - mae: 1076.6744\n",
            "Epoch 90/150\n",
            "22/22 [==============================] - 3s 152ms/step - loss: 1081.2223 - mae: 1081.5547\n",
            "Epoch 91/150\n",
            "22/22 [==============================] - 3s 150ms/step - loss: 1083.4714 - mae: 1083.8488\n",
            "Epoch 92/150\n",
            "22/22 [==============================] - 3s 152ms/step - loss: 1078.4706 - mae: 1078.8361\n",
            "Epoch 93/150\n",
            "22/22 [==============================] - 3s 151ms/step - loss: 1081.9232 - mae: 1082.2920\n",
            "Epoch 94/150\n",
            "22/22 [==============================] - 3s 152ms/step - loss: 1076.8342 - mae: 1077.1853\n",
            "Epoch 95/150\n",
            "22/22 [==============================] - 3s 150ms/step - loss: 1079.5357 - mae: 1079.9103\n",
            "Epoch 96/150\n",
            "22/22 [==============================] - 3s 150ms/step - loss: 1074.5307 - mae: 1074.9097\n",
            "Epoch 97/150\n",
            "22/22 [==============================] - 3s 151ms/step - loss: 1078.8599 - mae: 1079.2089\n",
            "Epoch 98/150\n",
            "22/22 [==============================] - 3s 149ms/step - loss: 1080.5122 - mae: 1080.8701\n",
            "Epoch 99/150\n",
            "22/22 [==============================] - 3s 152ms/step - loss: 1078.8240 - mae: 1079.1628\n",
            "Epoch 100/150\n",
            "22/22 [==============================] - 3s 150ms/step - loss: 1074.0026 - mae: 1074.3706\n",
            "Epoch 101/150\n",
            "22/22 [==============================] - 3s 149ms/step - loss: 1069.3781 - mae: 1069.6980\n",
            "Epoch 102/150\n",
            "22/22 [==============================] - 3s 150ms/step - loss: 1079.2412 - mae: 1079.6027\n",
            "Epoch 103/150\n",
            "22/22 [==============================] - 3s 152ms/step - loss: 1087.6096 - mae: 1088.0105\n",
            "Epoch 104/150\n",
            "22/22 [==============================] - 3s 153ms/step - loss: 1084.5206 - mae: 1084.9304\n",
            "Epoch 105/150\n",
            "22/22 [==============================] - 3s 150ms/step - loss: 1079.4956 - mae: 1079.8719\n",
            "Epoch 106/150\n",
            "22/22 [==============================] - 3s 151ms/step - loss: 1066.8872 - mae: 1067.2255\n",
            "Epoch 107/150\n",
            "22/22 [==============================] - 3s 150ms/step - loss: 1070.2324 - mae: 1070.6150\n",
            "Epoch 108/150\n",
            "22/22 [==============================] - 3s 150ms/step - loss: 1062.5851 - mae: 1062.9535\n",
            "Epoch 109/150\n",
            "22/22 [==============================] - 3s 149ms/step - loss: 1061.2648 - mae: 1061.6718\n",
            "Epoch 110/150\n",
            "22/22 [==============================] - 3s 152ms/step - loss: 1054.9641 - mae: 1055.3245\n",
            "Epoch 111/150\n",
            "22/22 [==============================] - 3s 151ms/step - loss: 1048.6295 - mae: 1048.9645\n",
            "Epoch 112/150\n",
            "22/22 [==============================] - 3s 151ms/step - loss: 1052.2327 - mae: 1052.5590\n",
            "Epoch 113/150\n",
            "22/22 [==============================] - 3s 150ms/step - loss: 1060.5199 - mae: 1060.8906\n",
            "Epoch 114/150\n",
            "22/22 [==============================] - 3s 151ms/step - loss: 1053.8217 - mae: 1054.1753\n",
            "Epoch 115/150\n",
            "22/22 [==============================] - 3s 149ms/step - loss: 1053.1992 - mae: 1053.5890\n",
            "Epoch 116/150\n",
            "22/22 [==============================] - 3s 150ms/step - loss: 1049.5838 - mae: 1049.9530\n",
            "Epoch 117/150\n",
            "22/22 [==============================] - 3s 150ms/step - loss: 1047.9644 - mae: 1048.3206\n",
            "Epoch 118/150\n",
            "22/22 [==============================] - 3s 151ms/step - loss: 1053.8999 - mae: 1054.2531\n",
            "Epoch 119/150\n",
            "22/22 [==============================] - 3s 150ms/step - loss: 1063.6236 - mae: 1064.0032\n",
            "Epoch 120/150\n",
            "22/22 [==============================] - 3s 149ms/step - loss: 1054.4988 - mae: 1054.8342\n",
            "Epoch 121/150\n",
            "22/22 [==============================] - 3s 149ms/step - loss: 1059.2137 - mae: 1059.6185\n",
            "Epoch 122/150\n",
            "22/22 [==============================] - 3s 152ms/step - loss: 1053.0587 - mae: 1053.4722\n",
            "Epoch 123/150\n",
            "22/22 [==============================] - 3s 148ms/step - loss: 1051.7471 - mae: 1052.1554\n",
            "Epoch 124/150\n",
            "22/22 [==============================] - 3s 151ms/step - loss: 1045.4251 - mae: 1045.7910\n",
            "Epoch 125/150\n",
            "22/22 [==============================] - 3s 152ms/step - loss: 1042.8188 - mae: 1043.2119\n",
            "Epoch 126/150\n",
            "22/22 [==============================] - 3s 151ms/step - loss: 1040.0507 - mae: 1040.4220\n",
            "Epoch 127/150\n",
            "22/22 [==============================] - 3s 150ms/step - loss: 1037.2928 - mae: 1037.6766\n",
            "Epoch 128/150\n",
            "22/22 [==============================] - 3s 151ms/step - loss: 1032.8380 - mae: 1033.2261\n",
            "Epoch 129/150\n",
            "22/22 [==============================] - 3s 149ms/step - loss: 1031.5415 - mae: 1031.8867\n",
            "Epoch 130/150\n",
            "22/22 [==============================] - 3s 150ms/step - loss: 1030.6205 - mae: 1030.9698\n",
            "Epoch 131/150\n",
            "22/22 [==============================] - 3s 149ms/step - loss: 1024.8298 - mae: 1025.1797\n",
            "Epoch 132/150\n",
            "22/22 [==============================] - 3s 150ms/step - loss: 1024.6643 - mae: 1025.0149\n",
            "Epoch 133/150\n",
            "22/22 [==============================] - 3s 149ms/step - loss: 1027.1447 - mae: 1027.4843\n",
            "Epoch 134/150\n",
            "22/22 [==============================] - 3s 150ms/step - loss: 1033.3317 - mae: 1033.6409\n",
            "Epoch 135/150\n",
            "22/22 [==============================] - 3s 152ms/step - loss: 1036.1113 - mae: 1036.4865\n",
            "Epoch 136/150\n",
            "22/22 [==============================] - 3s 151ms/step - loss: 1048.9032 - mae: 1049.1819\n",
            "Epoch 137/150\n",
            "22/22 [==============================] - 3s 150ms/step - loss: 1065.7041 - mae: 1066.0544\n",
            "Epoch 138/150\n",
            "22/22 [==============================] - 3s 152ms/step - loss: 1067.3792 - mae: 1067.7762\n",
            "Epoch 139/150\n",
            "22/22 [==============================] - 3s 151ms/step - loss: 1059.7981 - mae: 1060.1882\n",
            "Epoch 140/150\n",
            "22/22 [==============================] - 3s 149ms/step - loss: 1057.0582 - mae: 1057.4279\n",
            "Epoch 141/150\n",
            "22/22 [==============================] - 3s 150ms/step - loss: 1060.8648 - mae: 1061.2512\n",
            "Epoch 142/150\n",
            "22/22 [==============================] - 3s 151ms/step - loss: 1054.0431 - mae: 1054.4315\n",
            "Epoch 143/150\n",
            "22/22 [==============================] - 3s 150ms/step - loss: 1054.7694 - mae: 1055.1592\n",
            "Epoch 144/150\n",
            "22/22 [==============================] - 3s 150ms/step - loss: 1051.5774 - mae: 1051.9639\n",
            "Epoch 145/150\n",
            "22/22 [==============================] - 3s 150ms/step - loss: 1047.2609 - mae: 1047.6349\n",
            "Epoch 146/150\n",
            "22/22 [==============================] - 3s 151ms/step - loss: 1038.0231 - mae: 1038.3986\n",
            "Epoch 147/150\n",
            "22/22 [==============================] - 3s 151ms/step - loss: 1032.7765 - mae: 1033.1349\n",
            "Epoch 148/150\n",
            "22/22 [==============================] - 3s 149ms/step - loss: 1033.8220 - mae: 1034.2212\n",
            "Epoch 149/150\n",
            "22/22 [==============================] - 3s 150ms/step - loss: 1028.0710 - mae: 1028.4282\n",
            "Epoch 150/150\n",
            "22/22 [==============================] - 3s 150ms/step - loss: 1027.8937 - mae: 1028.2722\n"
          ],
          "name": "stdout"
        }
      ]
    },
    {
      "cell_type": "code",
      "metadata": {
        "id": "GaC6NNMRp0lb",
        "colab_type": "code",
        "colab": {}
      },
      "source": [
        "rnn_forecast = model_forecast(model, series[..., np.newaxis], window_size)\n",
        "rnn_forecast = rnn_forecast[split_time - window_size:-1, -1, 0]"
      ],
      "execution_count": 0,
      "outputs": []
    },
    {
      "cell_type": "code",
      "metadata": {
        "id": "PrktQX3hKYex",
        "colab_type": "code",
        "outputId": "3d731fd3-97b1-467d-d087-db5c1dfe0af0",
        "colab": {
          "base_uri": "https://localhost:8080/",
          "height": 392
        }
      },
      "source": [
        "# Plot forecasts vs actuals for validation set\n",
        "plt.figure(figsize=(10, 6))\n",
        "plot_series(time_valid, x_valid)\n",
        "plot_series(time_valid, rnn_forecast)"
      ],
      "execution_count": 18,
      "outputs": [
        {
          "output_type": "display_data",
          "data": {
            "image/png": "[encoded data removed]",
            "text/plain": [
              "<Figure size 720x432 with 1 Axes>"
            ]
          },
          "metadata": {
            "tags": []
          }
        }
      ]
    },
    {
      "cell_type": "code",
      "metadata": {
        "id": "13XrorC5wQoE",
        "colab_type": "code",
        "outputId": "06e8508c-c325-4d48-c569-dc9b25323718",
        "colab": {
          "base_uri": "https://localhost:8080/",
          "height": 34
        }
      },
      "source": [
        "# Get MAE metric\n",
        "tf.keras.metrics.mean_absolute_error(x_valid, rnn_forecast).numpy()"
      ],
      "execution_count": 19,
      "outputs": [
        {
          "output_type": "execute_result",
          "data": {
            "text/plain": [
              "1383.619"
            ]
          },
          "metadata": {
            "tags": []
          },
          "execution_count": 19
        }
      ]
    },
    {
      "cell_type": "code",
      "metadata": {
        "id": "AOVzQXxCwkzP",
        "colab_type": "code",
        "outputId": "c45c3bd2-3099-43f4-f833-4e0b9148aeac",
        "colab": {
          "base_uri": "https://localhost:8080/",
          "height": 918
        }
      },
      "source": [
        "# The array of forecast values for the validation set.\n",
        "print(rnn_forecast)"
      ],
      "execution_count": 20,
      "outputs": [
        {
          "output_type": "stream",
          "text": [
            "[3353.995  2988.6316 2420.442  1581.4539 1971.5471 2776.349  3404.4543\n",
            " 4182.5176 3790.8965 2866.0242 2803.258  2432.5237 2309.1218 2690.8242\n",
            " 1610.0044 1998.546  1993.6638 1102.8352 1494.837  2033.6477 2930.215\n",
            " 3024.644  2993.6174 3006.4688 1803.6509 1903.7506 1992.174  2603.8389\n",
            " 2845.1577 2828.4265 3027.581  2078.6965 2098.768  2436.972  2475.464\n",
            " 2829.8845 3219.4175 2161.148  2627.3938 1549.0879 2344.3447 2708.9243\n",
            " 2318.2864 2433.8828 1748.3256 2499.783  2264.5286 3116.479  3443.4854\n",
            " 3620.1538 3736.2122 2109.0234 1449.0249 1782.702  2938.9495 3126.6694\n",
            " 3381.1436 2877.465  2092.7336 1725.0421 1327.7045 2548.959  3266.0447\n",
            " 3491.5237 3408.8262 1871.935  1959.3107 1697.0093 2337.5745 3112.9983\n",
            " 3252.0745 4045.3083 2991.6538 1867.0962 2336.64   3051.6409 3230.5393\n",
            " 2879.763  1654.465  2936.14   3380.7646 2669.2395 2213.9062 2858.16\n",
            " 3534.8171 4044.9456 3331.1394 2880.8564 3396.7773 3617.916  3686.1436\n",
            " 3146.4062 2145.7932 2103.682  2302.8696 1666.427  2374.2185 2813.866\n",
            " 2911.0369 3279.0989 3182.8296 2042.2283 1990.8645 1958.8843 2735.0547\n",
            " 2236.1277 2620.2207 3384.8577 2677.231  2582.931  2042.3081 1983.1261\n",
            " 1989.6952 2202.6677 2160.503  2559.0974 1907.9115 3001.5898 3080.5342\n",
            " 4251.0176 4165.9834 3419.8203 3252.912  2122.8894 2986.1858 3404.5466\n",
            " 3213.234  3055.2134 1837.6394 1614.5156 2389.7004 2369.9285 3227.9126\n",
            " 3167.5422 2228.0347 2116.7874 1837.0725 1826.5784 2593.5334 3225.7473\n",
            " 2865.861  2852.015  2210.5813 1065.2208 1486.4521 2847.5964 2388.8765\n",
            " 2649.0605 2598.996  2105.183  2134.9004 1383.3264 1752.3776 2440.259\n",
            " 2041.7721 1701.7327 1951.6364 1169.023  1904.0808 2206.0916 2701.3315\n",
            " 2549.2385 1844.2614 2490.3586 1751.8203 2095.2502 3163.4526 3259.5642\n",
            " 3572.149  3835.706  3447.1565 2285.022  1975.693  3041.0276 3402.8098\n",
            " 2725.8315 2044.9335 2375.3125 2411.534  2173.818  2205.3335 2781.6077\n",
            " 3229.539  3640.775  2134.3535 2882.7136 2902.296  3016.8936 3496.0872\n",
            " 3754.9304 3974.6797 2822.2913 2005.7432 3052.9128 3797.0798 3748.8552\n",
            " 3412.8254 1869.245  1996.2823 2601.6116 3074.3494 3436.2441 3227.4941\n",
            " 2950.875  2409.2507 1885.1667 2663.5298 3287.4797 3620.306  3579.9565\n",
            " 2353.605  1705.1517 2756.5698 3267.719  3019.7114 1722.7926 2524.354\n",
            " 3149.2073 3180.163  3636.8694 3115.5657 2018.9304 2296.7947 3084.1125\n",
            " 3035.4297 3069.7163 2771.3596 1758.726  1644.6091 3022.0818 3372.1353\n",
            " 3327.8965 3598.1763 3271.2842 2290.9805 2272.7932 2579.1042 2434.7517\n",
            " 2293.7854 1759.7642 1921.29   2211.9468 1283.3948 1278.9427 1790.9937\n",
            " 2699.4084 3153.9404 2671.4722 2845.827  1595.5967 1500.5048 1436.8383\n",
            " 2303.3662 2685.6755 2068.84   1811.1692 2091.05   2953.436  3025.9773\n",
            " 2848.4868 3306.596  2318.458  2886.2988 1456.6166 1756.4087 1764.462\n",
            " 1973.2694 2767.069  1606.3688 1719.9816 1308.4037 2443.869  2527.5693\n",
            " 2608.4666 2716.7102 2114.6643 2648.1223 2514.7046 2534.0532 3213.802\n",
            " 3557.8125 3645.6172 3208.955  2296.8455 1728.4946 2022.2894 2198.0073\n",
            " 1837.3335 2399.588  2887.4346 2489.3489 2360.9683 1988.3925 2038.7026\n",
            " 2693.4265 3343.063  3535.544  2868.0322 1797.0792 2469.6384 2459.383\n",
            " 1720.8801 1566.9972 2029.4305 2354.7358 2933.367  3437.8154 3533.2295\n",
            " 3357.1982 3792.2324 1997.2456 1951.5421 1122.9799 1626.4628 1793.7389\n",
            " 1414.8159 1657.3469 1729.8119 2261.4841 2610.7017 2524.126  2079.9734\n",
            " 2180.4192 2791.866  2702.0552 1913.4623 1781.7932 2013.7415 3114.3743\n",
            " 3404.1824 3645.274  3307.399  2422.2563 2072.5642 2865.1768 2903.988\n",
            " 3088.0828 2984.2673 1712.5332 2086.2373 2556.3376 2932.079  3439.7659\n",
            " 2945.8645 2819.1978 1720.1715 2145.3726 1306.6216 2177.0312 1452.9042\n",
            " 1845.676  1614.6072 1253.3965 1377.179  1455.1752  879.8832 1249.0228\n",
            " 2562.251  3241.5923 3582.143  2492.525  1892.8953 3139.902  3252.2395\n",
            " 3884.6545]\n"
          ],
          "name": "stdout"
        }
      ]
    },
    {
      "cell_type": "code",
      "metadata": {
        "id": "lGaLVsDQMUne",
        "colab_type": "code",
        "colab": {}
      },
      "source": [
        ""
      ],
      "execution_count": 0,
      "outputs": []
    }
  ]
}